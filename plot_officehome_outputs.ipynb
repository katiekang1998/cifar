{
 "cells": [
  {
   "cell_type": "code",
   "execution_count": 1,
   "metadata": {},
   "outputs": [
    {
     "name": "stderr",
     "output_type": "stream",
     "text": [
      "/home/katie/miniconda3/envs/cifar10/lib/python3.7/site-packages/tqdm/auto.py:21: TqdmWarning: IProgress not found. Please update jupyter and ipywidgets. See https://ipywidgets.readthedocs.io/en/stable/user_install.html\n",
      "  from .autonotebook import tqdm as notebook_tqdm\n"
     ]
    }
   ],
   "source": [
    "import pickle\n",
    "import numpy as np\n",
    "import matplotlib.pyplot as plt\n",
    "import os\n",
    "from torchvision.datasets import ImageFolder\n",
    "import torchvision.transforms as transforms\n",
    "import torch"
   ]
  },
  {
   "cell_type": "code",
   "execution_count": 2,
   "metadata": {},
   "outputs": [],
   "source": [
    "\n",
    "class MultipleDomainDataset:\n",
    "    N_STEPS = 5001           # Default, subclasses may override\n",
    "    CHECKPOINT_FREQ = 100    # Default, subclasses may override\n",
    "    N_WORKERS = 8            # Default, subclasses may override\n",
    "    ENVIRONMENTS = None      # Subclasses should override\n",
    "    INPUT_SHAPE = None       # Subclasses should override\n",
    "\n",
    "    def __getitem__(self, index):\n",
    "        return self.datasets[index]\n",
    "\n",
    "    def __len__(self):\n",
    "        return len(self.datasets)\n",
    "\n",
    "class MultipleEnvironmentImageFolder(MultipleDomainDataset):\n",
    "    def __init__(self, root, test_envs, augment):\n",
    "        super().__init__()\n",
    "        environments = [f.name for f in os.scandir(root) if f.is_dir()]\n",
    "        environments = sorted(environments)\n",
    "\n",
    "        transform = transforms.Compose([\n",
    "            transforms.Resize((224,224)),\n",
    "            transforms.ToTensor(),\n",
    "            transforms.Normalize(\n",
    "                mean=[0.485, 0.456, 0.406], std=[0.229, 0.224, 0.225])\n",
    "        ])\n",
    "\n",
    "        augment_transform = transforms.Compose([\n",
    "            # transforms.Resize((224,224)),\n",
    "            transforms.RandomResizedCrop(224, scale=(0.7, 1.0)),\n",
    "            transforms.RandomHorizontalFlip(),\n",
    "            transforms.ColorJitter(0.3, 0.3, 0.3, 0.3),\n",
    "            transforms.RandomGrayscale(),\n",
    "            transforms.ToTensor(),\n",
    "            transforms.Normalize(\n",
    "                mean=[0.485, 0.456, 0.406], std=[0.229, 0.224, 0.225]),\n",
    "        ])\n",
    "\n",
    "        self.datasets = []\n",
    "        for i, environment in enumerate(environments):\n",
    "\n",
    "            if augment and (i not in test_envs):\n",
    "                env_transform = augment_transform\n",
    "            else:\n",
    "                env_transform = transform\n",
    "\n",
    "            path = os.path.join(root, environment)\n",
    "            env_dataset = ImageFolder(path,\n",
    "                transform=env_transform)\n",
    "\n",
    "            self.datasets.append(env_dataset)\n",
    "\n",
    "        self.input_shape = (3, 224, 224,)\n",
    "        self.num_classes = len(self.datasets[-1].classes)\n",
    "\n",
    "class OfficeHome(MultipleEnvironmentImageFolder):\n",
    "    CHECKPOINT_FREQ = 300\n",
    "    ENVIRONMENTS = [\"A\", \"C\", \"P\", \"R\"]\n",
    "    def __init__(self, root, test_envs):\n",
    "        self.dir = os.path.join(root, \"office_home/\")\n",
    "        super().__init__(self.dir, test_envs, True)\n",
    "\n",
    "\n",
    "class _SplitDataset(torch.utils.data.Dataset):\n",
    "    \"\"\"Used by split_dataset\"\"\"\n",
    "    def __init__(self, underlying_dataset, keys):\n",
    "        super(_SplitDataset, self).__init__()\n",
    "        self.underlying_dataset = underlying_dataset\n",
    "        self.keys = keys\n",
    "    def __getitem__(self, key):\n",
    "        return self.underlying_dataset[self.keys[key]]\n",
    "    def __len__(self):\n",
    "        return len(self.keys)\n",
    "\n",
    "def split_dataset(dataset, n, seed=0):\n",
    "    \"\"\"\n",
    "    Return a pair of datasets corresponding to a random split of the given\n",
    "    dataset, with n datapoints in the first dataset and the rest in the last,\n",
    "    using the given random seed\n",
    "    \"\"\"\n",
    "    assert(n <= len(dataset))\n",
    "    keys = list(range(len(dataset)))\n",
    "    np.random.RandomState(seed).shuffle(keys)\n",
    "    keys_1 = keys[:n]\n",
    "    keys_2 = keys[n:]\n",
    "    return _SplitDataset(dataset, keys_1), _SplitDataset(dataset, keys_2)"
   ]
  },
  {
   "cell_type": "code",
   "execution_count": 31,
   "metadata": {},
   "outputs": [],
   "source": [
    "dataset_all = OfficeHome(\"/home/katie/Desktop/DomainBed/domainbed/data/\", [0, 1, 3])\n",
    "\n",
    "test_data, train_data  = split_dataset(dataset_all[2], int(len(dataset_all[2])*0.2))\n",
    "dataset = train_data\n",
    "\n"
   ]
  },
  {
   "cell_type": "code",
   "execution_count": 32,
   "metadata": {},
   "outputs": [
    {
     "data": {
      "text/plain": [
       "887"
      ]
     },
     "execution_count": 32,
     "metadata": {},
     "output_type": "execute_result"
    }
   ],
   "source": [
    "len(test_data)"
   ]
  },
  {
   "cell_type": "code",
   "execution_count": 33,
   "metadata": {},
   "outputs": [],
   "source": [
    "num_classes = 65"
   ]
  },
  {
   "cell_type": "code",
   "execution_count": 34,
   "metadata": {},
   "outputs": [],
   "source": [
    "class_probs = []\n",
    "targets = np.array(dataset.underlying_dataset.targets)[np.array(dataset.keys)]\n",
    "for class_idx in range(num_classes):\n",
    "    class_probs.append(np.sum(np.array(targets) == class_idx)/len(dataset))"
   ]
  },
  {
   "cell_type": "code",
   "execution_count": 35,
   "metadata": {},
   "outputs": [],
   "source": [
    "class_probs = np.array(class_probs)\n",
    "f_star = class_probs*1+(1-class_probs)*-4\n",
    "f_star = np.append(f_star, 0)"
   ]
  },
  {
   "cell_type": "code",
   "execution_count": 36,
   "metadata": {},
   "outputs": [],
   "source": [
    "test_targets = np.array(test_data.underlying_dataset.targets)[np.array(test_data.keys)]\n",
    "\n",
    "labels_all = [test_targets, dataset_all[0].targets, dataset_all[1].targets, dataset_all[3].targets]"
   ]
  },
  {
   "cell_type": "code",
   "execution_count": 37,
   "metadata": {},
   "outputs": [
    {
     "data": {
      "text/plain": [
       "3552"
      ]
     },
     "execution_count": 37,
     "metadata": {},
     "output_type": "execute_result"
    }
   ],
   "source": [
    "len(np.array(train_data.keys))"
   ]
  },
  {
   "cell_type": "code",
   "execution_count": 38,
   "metadata": {},
   "outputs": [
    {
     "data": {
      "text/plain": [
       "887"
      ]
     },
     "execution_count": 38,
     "metadata": {},
     "output_type": "execute_result"
    }
   ],
   "source": [
    "len(test_targets)"
   ]
  },
  {
   "cell_type": "code",
   "execution_count": 39,
   "metadata": {},
   "outputs": [
    {
     "data": {
      "text/plain": [
       "2427"
      ]
     },
     "execution_count": 39,
     "metadata": {},
     "output_type": "execute_result"
    }
   ],
   "source": [
    "len(dataset_all[0].targets)"
   ]
  },
  {
   "cell_type": "code",
   "execution_count": 40,
   "metadata": {},
   "outputs": [],
   "source": [
    "labels = np.array(labels)\n"
   ]
  },
  {
   "cell_type": "code",
   "execution_count": 41,
   "metadata": {},
   "outputs": [
    {
     "name": "stdout",
     "output_type": "stream",
     "text": [
      "dict_keys([0, 1, 2, 3])\n",
      "(887, 66)\n",
      "(4357, 66)\n",
      "(4365, 66)\n",
      "(2427, 66)\n",
      "dict_keys([0, 1, 2, 3])\n",
      "(887, 66)\n",
      "(4357, 66)\n",
      "(4365, 66)\n",
      "(2427, 66)\n",
      "dict_keys([0, 1, 2, 3])\n",
      "(887, 66)\n",
      "(4357, 66)\n",
      "(4365, 66)\n",
      "(2427, 66)\n",
      "dict_keys([0, 1, 2, 3])\n",
      "(887, 66)\n",
      "(4357, 66)\n",
      "(4365, 66)\n",
      "(2427, 66)\n",
      "dict_keys([0, 1, 2, 3])\n",
      "(887, 66)\n",
      "(4357, 66)\n",
      "(4365, 66)\n",
      "(2427, 66)\n"
     ]
    },
    {
     "data": {
      "text/plain": [
       "<matplotlib.legend.Legend at 0x7fa0f5e71f50>"
      ]
     },
     "execution_count": 41,
     "metadata": {},
     "output_type": "execute_result"
    },
    {
     "data": {
      "image/png": "[encoded data removed]",
      "text/plain": [
       "<Figure size 640x480 with 1 Axes>"
      ]
     },
     "metadata": {},
     "output_type": "display_data"
    }
   ],
   "source": [
    "run_names = [\"officehome_seed0\", \"officehome_seed1\", \"officehome_seed2\", \"officehome_seed3\", \"officehome_seed4\"]\n",
    "\n",
    "accuracies_all = []\n",
    "dist_from_f_starts_all = []\n",
    "for run_name in run_names:\n",
    "    with open(\"data/\"+run_name+'/outputs.pkl', 'rb') as f:\n",
    "        data = pickle.load(f)\n",
    "    print(data.keys())\n",
    "\n",
    "    \n",
    "\n",
    "    accuracies = []\n",
    "    dist_from_f_starts = []\n",
    "    for corruption_level in ([0, 3, 2, 1]):\n",
    "        dist_from_f_start = ((data[corruption_level] - np.expand_dims(f_star, axis=0))**2).mean()\n",
    "        print(data[corruption_level].shape)\n",
    "        accuracy = (np.array(data[corruption_level][:, :-1].argmax(axis=-1))==np.array(labels_all[corruption_level])).mean()\n",
    "        accuracies.append(accuracy)\n",
    "        dist_from_f_starts.append(dist_from_f_start)\n",
    "    accuracies_all.append(accuracies)\n",
    "    dist_from_f_starts_all.append(dist_from_f_starts)\n",
    "accuracies_all = np.array(accuracies_all)\n",
    "dist_from_f_starts_all = np.array(dist_from_f_starts_all)\n",
    "# plt.plot(1-np.array(accuracies_all.mean(axis=0)), dist_from_f_starts_all.mean(axis=0), \"o-\")\n",
    "# #plot error bars\n",
    "# plt.fill_between(1-np.array(accuracies_all.mean(axis=0)), dist_from_f_starts_all.mean(axis=0)-dist_from_f_starts_all.std(axis=0), dist_from_f_starts_all.mean(axis=0)+dist_from_f_starts_all.std(axis=0), alpha=0.2)\n",
    "# plt.legend()\n",
    "\n",
    "\n",
    "labels = [\"Product (Train)\", \"Photo\", \"Clipart\", \"Art\"]\n",
    "from matplotlib.patches import Ellipse\n",
    "plt.figure()\n",
    "ax = plt.gca()\n",
    "colors = [\"C0\", \"C1\", \"C2\", \"C3\"]\n",
    "plt.plot(1-np.array(accuracies_all.mean(axis=0)), dist_from_f_starts_all.mean(axis=0), c = \"black\", alpha=0.5, zorder=-1)\n",
    "for i in range(4):\n",
    "    ellipse = Ellipse(xy=(1-accuracies_all.mean(axis=0)[i], dist_from_f_starts_all.mean(axis=0)[i]), width=accuracies_all.std(axis=0)[i], height=dist_from_f_starts_all.std(axis=0)[i], color=colors[i], alpha=0.5)\n",
    "                            # edgecolor='r', fc='None', lw=2)\n",
    "    ax.add_patch(ellipse, )\n",
    "    r = 0.004\n",
    "    ellipse = Ellipse(xy=(1-accuracies_all.mean(axis=0)[i], dist_from_f_starts_all.mean(axis=0)[i]), width=r*2, height=r, color=colors[i])\n",
    "                            # edgecolor='r', fc='None', lw=2)\n",
    "    ax.add_patch(ellipse, )\n",
    "    ellipse.set(label = labels[i])\n",
    "plt.xlabel(\"Misclassification Rate\")\n",
    "plt.ylabel(\"Distance from $f^*_{constant}$\")\n",
    "plt.ylim(0.125, 0.325)\n",
    "plt.xlim(0.1, 0.75)\n",
    "plt.title(\"DomainBed OfficeHome\")\n",
    "\n",
    "plt.legend()"
   ]
  },
  {
   "cell_type": "code",
   "execution_count": 60,
   "metadata": {},
   "outputs": [
    {
     "name": "stdout",
     "output_type": "stream",
     "text": [
      "dict_keys([0, 1, 2, 3])\n"
     ]
    }
   ],
   "source": [
    "with open(\"data/\"+run_names[0]+'/outputs.pkl', 'rb') as f:\n",
    "    data = pickle.load(f)\n",
    "print(data.keys())"
   ]
  },
  {
   "cell_type": "code",
   "execution_count": 61,
   "metadata": {},
   "outputs": [
    {
     "data": {
      "text/plain": [
       "array([[-3.97966695, -4.06211472, -4.04993248, ..., -4.00901079,\n",
       "        -3.96747565,  0.04879395],\n",
       "       [-4.0476203 , -4.00892448, -4.06067562, ..., -3.93343234,\n",
       "        -4.02931643,  0.02581985],\n",
       "       [-3.98218155, -3.98605514, -4.03574657, ..., -3.96869206,\n",
       "        -3.97410417,  0.01626987],\n",
       "       ...,\n",
       "       [-4.05354118, -4.08010101, -4.0274682 , ..., -4.01679754,\n",
       "        -4.00088453,  0.03117603],\n",
       "       [-4.05271387, -4.00736141, -4.0273366 , ..., -4.00647593,\n",
       "        -3.95844483,  0.00797695],\n",
       "       [-3.99164224, -3.99818993, -4.02550602, ..., -4.03868341,\n",
       "        -3.95541263,  0.021038  ]])"
      ]
     },
     "execution_count": 61,
     "metadata": {},
     "output_type": "execute_result"
    }
   ],
   "source": [
    "data[0]"
   ]
  },
  {
   "cell_type": "code",
   "execution_count": null,
   "metadata": {},
   "outputs": [],
   "source": []
  }
 ],
 "metadata": {
  "kernelspec": {
   "display_name": "cifar10",
   "language": "python",
   "name": "python3"
  },
  "language_info": {
   "codemirror_mode": {
    "name": "ipython",
    "version": 3
   },
   "file_extension": ".py",
   "mimetype": "text/x-python",
   "name": "python",
   "nbconvert_exporter": "python",
   "pygments_lexer": "ipython3",
   "version": "3.7.16"
  },
  "orig_nbformat": 4
 },
 "nbformat": 4,
 "nbformat_minor": 2
}
